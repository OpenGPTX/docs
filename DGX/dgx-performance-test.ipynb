{
 "cells": [
  {
   "cell_type": "code",
   "execution_count": null,
   "metadata": {},
   "outputs": [],
   "source": [
    "from pyspark.sql import SparkSession\n",
    "\n",
    "import os\n",
    "home = os.environ[\"HOME\"]\n",
    "\n",
    "spark = SparkSession \\\n",
    "    .builder \\\n",
    "    .appName(\"My SparkSession\") \\\n",
    "    .config(\"spark.master\", \"local[256]\") \\\n",
    "    .config(\"spark.driver.memory\", \"1024g\") \\\n",
    "    .getOrCreate()"
   ]
  },
  {
   "cell_type": "code",
   "execution_count": null,
   "metadata": {},
   "outputs": [],
   "source": [
    "df_1 = spark.read.parquet('/raid/s3/opengptx/datasources_ogptx/docs/v0.1.2/de/bundestag')\n",
    "df_2 = spark.read.parquet('/raid/s3/opengptx/datasources_ogptx/docs/v0.1.2/de/one_million_posts')\n",
    "df_3 = spark.read.parquet('/raid/s3/opengptx/datasources_ogptx/docs/v0.1.2/de/opensubtitles')\n",
    "df_4 = spark.read.parquet('/raid/s3/opengptx/datasources_ogptx/docs/v0.1.2/de/oscar')\n",
    "df_5 = spark.read.parquet('/raid/s3/opengptx/datasources_ogptx/docs/v0.1.2/de/paracrawl')\n",
    "df_6 = spark.read.parquet('/raid/s3/opengptx/datasources_ogptx/docs/v0.1.2/de/wiki40b')\n",
    "\n",
    "df_7 = spark.read.parquet('/raid/s3/opengptx/datasources_ogptx/docs/v0.1.2/en/kelm')\n",
    "df_8 = spark.read.parquet('/raid/s3/opengptx/datasources_ogptx/docs/v0.1.2/en/oscar')\n",
    "df_9 = spark.read.parquet('/raid/s3/opengptx/datasources_ogptx/docs/v0.1.2/en/pile')\n",
    "df_10 = spark.read.parquet('/raid/s3/opengptx/datasources_ogptx/docs/v0.1.2/en/wiki40b')"
   ]
  },
  {
   "cell_type": "code",
   "execution_count": null,
   "metadata": {},
   "outputs": [],
   "source": [
    "df_all = df_1.select(\"uniq_id\", \"text\").union(df_2.select(\"uniq_id\", \"text\"))\n",
    "df_all = df_all.union(df_3.select(\"uniq_id\", \"text\"))\n",
    "df_all = df_all.union(df_4.select(\"uniq_id\", \"text\"))\n",
    "df_all = df_all.union(df_5.select(\"uniq_id\", \"text\"))\n",
    "df_all = df_all.union(df_6.select(\"uniq_id\", \"text\"))\n",
    "df_all = df_all.union(df_7.select(\"uniq_id\", \"text\"))\n",
    "df_all = df_all.union(df_8.select(\"uniq_id\", \"text\"))\n",
    "df_all = df_all.union(df_9.select(\"uniq_id\", \"text\"))\n",
    "df_all = df_all.union(df_10.select(\"uniq_id\", \"text\"))"
   ]
  },
  {
   "cell_type": "code",
   "execution_count": null,
   "metadata": {},
   "outputs": [],
   "source": [
    "train_df, validation_df = df_all.randomSplit(weights = [0.80, 0.20], seed = 24)"
   ]
  },
  {
   "cell_type": "code",
   "execution_count": null,
   "metadata": {},
   "outputs": [],
   "source": [
    "train_df.write.parquet('/raid/s3/opengptx/perform_test/train')\n",
    "validation_df.write.parquet('/raid/s3/opengptx/perform_test/validation')"
   ]
  }
 ],
 "metadata": {
  "kernelspec": {
   "display_name": "Python 3.10.6 64-bit",
   "language": "python",
   "name": "python3"
  },
  "language_info": {
   "codemirror_mode": {
    "name": "ipython",
    "version": 3
   },
   "file_extension": ".py",
   "mimetype": "text/x-python",
   "name": "python",
   "nbconvert_exporter": "python",
   "pygments_lexer": "ipython3",
   "version": "3.8.10"
  },
  "orig_nbformat": 4,
  "vscode": {
   "interpreter": {
    "hash": "916dbcbb3f70747c44a77c7bcd40155683ae19c65e1c03b4aa3499c5328201f1"
   }
  }
 },
 "nbformat": 4,
 "nbformat_minor": 2
}
