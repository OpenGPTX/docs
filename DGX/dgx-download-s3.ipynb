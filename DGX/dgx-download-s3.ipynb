{
 "cells": [
  {
   "cell_type": "code",
   "execution_count": null,
   "metadata": {},
   "outputs": [],
   "source": [
    "from pyspark.sql import SparkSession\n",
    "\n",
    "import os\n",
    "home = os.environ[\"HOME\"]\n",
    "\n",
    "spark = SparkSession \\\n",
    "    .builder \\\n",
    "    .appName(\"My SparkSession\") \\\n",
    "    .config(\"spark.master\", \"local[60]\") \\\n",
    "    .config(\"spark.driver.memory\", \"1536g\") \\\n",
    "    .config(\"spark.jars\", f\"{home}/spark/jars/hadoop-aws-3.3.2.jar,{home}/spark/jars/aws-java-sdk-bundle-1.11.1026.jar\") \\\n",
    "    .config(\"spark.hadoop.fs.s3a.impl\", \"org.apache.hadoop.fs.s3a.S3AFileSystem\") \\\n",
    "    .config(\"spark.hadoop.fs.s3a.access.key\", \"**********\") \\\n",
    "    .config(\"spark.hadoop.fs.s3a.secret.key\", \"*******************\") \\\n",
    "    .getOrCreate()"
   ]
  },
  {
   "cell_type": "code",
   "execution_count": null,
   "metadata": {},
   "outputs": [],
   "source": [
    "#mkdir /raid/s3\n",
    "#chmod 777 /raid/s3"
   ]
  },
  {
   "cell_type": "code",
   "execution_count": null,
   "metadata": {},
   "outputs": [],
   "source": [
    "#df_1 = spark.read.parquet('s3a://opengptx/datasources_ogptx/docs/v0.1.2/de/bundestag')\n",
    "#df_1.write.mode(\"overwrite\").parquet('/raid/s3/opengptx/datasources_ogptx/docs/v0.1.2/de/bundestag')"
   ]
  },
  {
   "cell_type": "code",
   "execution_count": null,
   "metadata": {},
   "outputs": [],
   "source": [
    "#df_2 = spark.read.parquet('s3a://opengptx/datasources_ogptx/docs/v0.1.2/de/one_million_posts')\n",
    "#df_2.write.mode(\"overwrite\").parquet('/raid/s3/opengptx/datasources_ogptx/docs/v0.1.2/de/one_million_posts')"
   ]
  },
  {
   "cell_type": "code",
   "execution_count": null,
   "metadata": {},
   "outputs": [],
   "source": [
    "#df_3 = spark.read.parquet('s3a://opengptx/datasources_ogptx/docs/v0.1.2/de/opensubtitles')\n",
    "#df_3.write.mode(\"overwrite\").parquet('/raid/s3/opengptx/datasources_ogptx/docs/v0.1.2/de/opensubtitles')"
   ]
  },
  {
   "cell_type": "code",
   "execution_count": null,
   "metadata": {},
   "outputs": [],
   "source": [
    "#df_4 = spark.read.parquet('s3a://opengptx/datasources_ogptx/docs/v0.1.2/de/oscar')\n",
    "#df_4.write.mode(\"overwrite\").parquet('/raid/s3/opengptx/datasources_ogptx/docs/v0.1.2/de/oscar')"
   ]
  },
  {
   "cell_type": "code",
   "execution_count": null,
   "metadata": {},
   "outputs": [],
   "source": [
    "#df_5 = spark.read.parquet('s3a://opengptx/datasources_ogptx/docs/v0.1.2/de/paracrawl')\n",
    "#df_5.write.mode(\"overwrite\").parquet('/raid/s3/opengptx/datasources_ogptx/docs/v0.1.2/de/paracrawl')"
   ]
  },
  {
   "cell_type": "code",
   "execution_count": null,
   "metadata": {},
   "outputs": [],
   "source": [
    "#df_6 = spark.read.parquet('s3a://opengptx/datasources_ogptx/docs/v0.1.2/de/wiki40b')\n",
    "#df_6.write.mode(\"overwrite\").parquet('/raid/s3/opengptx/datasources_ogptx/docs/v0.1.2/de/wiki40b')"
   ]
  },
  {
   "cell_type": "code",
   "execution_count": null,
   "metadata": {},
   "outputs": [],
   "source": [
    "#df_7 = spark.read.parquet('s3a://opengptx/datasources_ogptx/docs/v0.1.2/en/kelm')\n",
    "#df_7.write.mode(\"overwrite\").parquet('/raid/s3/opengptx/datasources_ogptx/docs/v0.1.2/en/kelm')"
   ]
  },
  {
   "cell_type": "code",
   "execution_count": null,
   "metadata": {},
   "outputs": [],
   "source": [
    "#df_8 = spark.read.parquet('s3a://opengptx/datasources_ogptx/docs/v0.1.2/en/oscar')\n",
    "#df_8.write.mode(\"overwrite\").parquet('/raid/s3/opengptx/datasources_ogptx/docs/v0.1.2/en/oscar')"
   ]
  },
  {
   "cell_type": "code",
   "execution_count": null,
   "metadata": {},
   "outputs": [],
   "source": [
    "#df_9 = spark.read.parquet('s3a://opengptx/datasources_ogptx/docs/v0.1.2/en/pile')\n",
    "#df_9.write.mode(\"overwrite\").parquet('/raid/s3/opengptx/datasources_ogptx/docs/v0.1.2/en/pile')"
   ]
  },
  {
   "cell_type": "code",
   "execution_count": null,
   "metadata": {},
   "outputs": [],
   "source": [
    "#df_10 = spark.read.parquet('s3a://opengptx/datasources_ogptx/docs/v0.1.2/en/wiki40b')\n",
    "#df_10.write.mode(\"overwrite\").parquet('/raid/s3/opengptx/datasources_ogptx/docs/v0.1.2/en/wiki40b')"
   ]
  }
 ],
 "metadata": {
  "kernelspec": {
   "display_name": "Python 3.10.6 64-bit",
   "language": "python",
   "name": "python3"
  },
  "language_info": {
   "codemirror_mode": {
    "name": "ipython",
    "version": 3
   },
   "file_extension": ".py",
   "mimetype": "text/x-python",
   "name": "python",
   "nbconvert_exporter": "python",
   "pygments_lexer": "ipython3",
   "version": "3.8.10"
  },
  "orig_nbformat": 4,
  "vscode": {
   "interpreter": {
    "hash": "916dbcbb3f70747c44a77c7bcd40155683ae19c65e1c03b4aa3499c5328201f1"
   }
  }
 },
 "nbformat": 4,
 "nbformat_minor": 2
}
