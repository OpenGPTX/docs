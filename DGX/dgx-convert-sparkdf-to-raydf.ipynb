{
 "cells": [
  {
   "cell_type": "code",
   "execution_count": null,
   "metadata": {},
   "outputs": [],
   "source": [
    "from pyspark.sql import SparkSession\n",
    "\n",
    "import os\n",
    "home = os.environ[\"HOME\"]\n",
    "\n",
    "spark = SparkSession \\\n",
    "    .builder \\\n",
    "    .appName(\"My SparkSession\") \\\n",
    "    .config(\"spark.master\", \"local[10]\") \\\n",
    "    .config(\"spark.driver.memory\", \"512g\") \\\n",
    "    .config(\"spark.sql.execution.arrow.pyspark.enabled\", \"true\") \\\n",
    "    .config(\"spark.driver.maxResultSize\", \"0\") \\\n",
    "    .getOrCreate()"
   ]
  },
  {
   "cell_type": "code",
   "execution_count": null,
   "metadata": {},
   "outputs": [],
   "source": [
    "import ray\n",
    "import raydp\n",
    "ray.init()\n",
    "sparkray = raydp.init_spark(\n",
    "  app_name = \"example\",\n",
    "  num_executors = 1,\n",
    "  executor_cores = 16,\n",
    "  executor_memory = \"64GB\"\n",
    ")"
   ]
  },
  {
   "cell_type": "code",
   "execution_count": null,
   "metadata": {},
   "outputs": [],
   "source": [
    "#df_1 = spark.read.parquet('/raid/s3/opengptx/datasources_ogptx/docs/v0.1.2/de/bundestag')\n",
    "#pdf = df_1.select(\"*\").toPandas()\n",
    "#ds = ray.data.from_pandas(pdf)\n",
    "#ds.repartition(11).write_parquet(\"/raid/s3/opengptx/ray/datasources_ogptx/docs/v0.1.2/de/bundestag\")"
   ]
  },
  {
   "cell_type": "code",
   "execution_count": null,
   "metadata": {},
   "outputs": [],
   "source": [
    "#df_2 = spark.read.parquet('/raid/s3/opengptx/datasources_ogptx/docs/v0.1.2/de/one_million_posts')\n",
    "#pdf2 = df_2.select(\"*\").toPandas()\n",
    "#ds2 = ray.data.from_pandas(pdf2)\n",
    "#ds2.repartition(5).write_parquet(\"/raid/s3/opengptx/ray/datasources_ogptx/docs/v0.1.2/de/one_million_posts\")"
   ]
  },
  {
   "cell_type": "code",
   "execution_count": null,
   "metadata": {},
   "outputs": [],
   "source": [
    "#df_3 = spark.read.parquet('/raid/s3/opengptx/datasources_ogptx/docs/v0.1.2/de/opensubtitles')\n",
    "#pdf3 = df_3.select(\"*\").toPandas()\n",
    "#ds3 = ray.data.from_pandas(pdf3)\n",
    "#ds3.repartition(46).write_parquet(\"/raid/s3/opengptx/ray/datasources_ogptx/docs/v0.1.2/de/opensubtitles\")"
   ]
  },
  {
   "cell_type": "code",
   "execution_count": null,
   "metadata": {},
   "outputs": [],
   "source": [
    "df_4 = spark.read.parquet('/raid/s3/opengptx/datasources_ogptx/docs/v0.1.2/de/oscar')\n",
    "pdf4 = df_4.select(\"*\").toPandas()\n",
    "ds4 = ray.data.from_pandas(pdf4)\n",
    "ds4.repartition(498).write_parquet(\"/raid/s3/opengptx/ray/datasources_ogptx/docs/v0.1.2/de/oscar\")"
   ]
  },
  {
   "cell_type": "code",
   "execution_count": null,
   "metadata": {},
   "outputs": [],
   "source": [
    "#df_5 = spark.read.parquet('/raid/s3/opengptx/datasources_ogptx/docs/v0.1.2/de/paracrawl')\n",
    "#pdf5 = df_5.select(\"*\").toPandas()\n",
    "#ds5 = ray.data.from_pandas(pdf5)\n",
    "#ds5.repartition(419).write_parquet(\"/raid/s3/opengptx/ray/datasources_ogptx/docs/v0.1.2/de/paracrawl\")"
   ]
  },
  {
   "cell_type": "code",
   "execution_count": null,
   "metadata": {},
   "outputs": [],
   "source": [
    "#df_6 = spark.read.parquet('/raid/s3/opengptx/datasources_ogptx/docs/v0.1.2/de/wiki40b')\n",
    "#pdf6 = df_6.select(\"*\").toPandas()\n",
    "#ds6 = ray.data.from_pandas(pdf6)\n",
    "#ds6.repartition(45).write_parquet(\"/raid/s3/opengptx/ray/datasources_ogptx/docs/v0.1.2/de/wiki40b\")"
   ]
  }
 ],
 "metadata": {
  "kernelspec": {
   "display_name": "Python 3 (ipykernel)",
   "language": "python",
   "name": "python3"
  },
  "language_info": {
   "codemirror_mode": {
    "name": "ipython",
    "version": 3
   },
   "file_extension": ".py",
   "mimetype": "text/x-python",
   "name": "python",
   "nbconvert_exporter": "python",
   "pygments_lexer": "ipython3",
   "version": "3.8.10"
  },
  "orig_nbformat": 4,
  "vscode": {
   "interpreter": {
    "hash": "916dbcbb3f70747c44a77c7bcd40155683ae19c65e1c03b4aa3499c5328201f1"
   }
  }
 },
 "nbformat": 4,
 "nbformat_minor": 2
}
